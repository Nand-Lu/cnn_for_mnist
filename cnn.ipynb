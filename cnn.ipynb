{
 "cells": [
  {
   "cell_type": "code",
   "execution_count": 1,
   "metadata": {},
   "outputs": [],
   "source": [
    "import torch\n",
    "import torch.nn as nn\n",
    "import torch.utils.data as Data\n",
    "import torchvision\n",
    "import matplotlib.pyplot as plt\n",
    "import os\n",
    "import numpy as np"
   ]
  },
  {
   "cell_type": "markdown",
   "metadata": {},
   "source": [
    "# mnist数据集下载"
   ]
  },
  {
   "cell_type": "code",
   "execution_count": 2,
   "metadata": {},
   "outputs": [],
   "source": [
    "mnist_dowmload =False\n",
    "\n",
    "if not os.path.exists('./mnist/'):\n",
    "    mnist_dowmload = True\n",
    "train_data = torchvision.datasets.MNIST(\n",
    "                                root= './mnist/',\n",
    "                                train= True,\n",
    "                                transform=torchvision.transforms.ToTensor(),\n",
    "                                download=mnist_dowmload)"
   ]
  },
  {
   "cell_type": "markdown",
   "metadata": {},
   "source": [
    "# 数据加载"
   ]
  },
  {
   "cell_type": "code",
   "execution_count": 3,
   "metadata": {},
   "outputs": [],
   "source": [
    "train_loader =Data.DataLoader(dataset= train_data, batch_size=20, shuffle=True ) #训练集加载\n",
    "test_data = torchvision.datasets.MNIST(root= './mnist/',train=False)#测试集\n",
    "test_x = torch.unsqueeze(test_data.data ,dim=1).type(torch.FloatTensor)[:]/255\n",
    "test_y = test_data.targets[:]"
   ]
  },
  {
   "cell_type": "markdown",
   "metadata": {},
   "source": [
    "# cnn网络"
   ]
  },
  {
   "cell_type": "code",
   "execution_count": 4,
   "metadata": {
    "scrolled": true
   },
   "outputs": [
    {
     "data": {
      "text/plain": [
       "cnn(\n",
       "  (conv1): Sequential(\n",
       "    (0): Conv2d(1, 16, kernel_size=(5, 5), stride=(1, 1), padding=(2, 2))\n",
       "    (1): ReLU()\n",
       "    (2): MaxPool2d(kernel_size=2, stride=2, padding=0, dilation=1, ceil_mode=False)\n",
       "  )\n",
       "  (conv2): Sequential(\n",
       "    (0): Conv2d(16, 32, kernel_size=(5, 5), stride=(1, 1), padding=(2, 2))\n",
       "    (1): ReLU()\n",
       "    (2): MaxPool2d(kernel_size=2, stride=2, padding=0, dilation=1, ceil_mode=False)\n",
       "  )\n",
       "  (out): Linear(in_features=1568, out_features=10, bias=True)\n",
       ")"
      ]
     },
     "execution_count": 4,
     "metadata": {},
     "output_type": "execute_result"
    }
   ],
   "source": [
    "class cnn(nn.Module):\n",
    "    \n",
    "    def __init__(self):\n",
    "        super(cnn, self).__init__()\n",
    "        self.conv1 = nn.Sequential(\n",
    "        nn.Conv2d(in_channels= 1, out_channels= 16,kernel_size= 5,stride= 1,padding= 2),\n",
    "        nn.ReLU(),\n",
    "        nn.MaxPool2d(kernel_size=2)\n",
    "        )\n",
    "        self.conv2 = nn.Sequential(\n",
    "        nn.Conv2d(in_channels=16, out_channels= 32, kernel_size=5, stride= 1, padding= 2),\n",
    "        nn.ReLU(),\n",
    "        nn.MaxPool2d(kernel_size=2)\n",
    "                             )\n",
    "        self.out = nn.Linear(in_features=32*7*7,out_features=10) \n",
    "     \n",
    "    def forward(self, x):\n",
    "        \n",
    "        x = self.conv1(x)\n",
    "        x = self.conv2(x)\n",
    "        x = x.view(x.size(0), -1)\n",
    "        output = self.out(x)\n",
    "        return output, x\n",
    "cnn = cnn()\n",
    "cnn"
   ]
  },
  {
   "cell_type": "markdown",
   "metadata": {},
   "source": [
    "# 优化器及损失函数"
   ]
  },
  {
   "cell_type": "code",
   "execution_count": 5,
   "metadata": {},
   "outputs": [],
   "source": [
    "optimizer = torch.optim.Adam(cnn.parameters(),lr=0.01)\n",
    "loss_fun = nn.CrossEntropyLoss()"
   ]
  },
  {
   "cell_type": "markdown",
   "metadata": {},
   "source": [
    "# 训练"
   ]
  },
  {
   "cell_type": "code",
   "execution_count": 6,
   "metadata": {},
   "outputs": [
    {
     "name": "stdout",
     "output_type": "stream",
     "text": [
      "Epoch: 0 | train loss: 2.3042 | test accuracy: 0.15\n",
      "Epoch: 0 | train loss: 0.5177 | test accuracy: 0.87\n",
      "Epoch: 0 | train loss: 0.3722 | test accuracy: 0.93\n",
      "Epoch: 0 | train loss: 0.1028 | test accuracy: 0.95\n",
      "Epoch: 0 | train loss: 0.3187 | test accuracy: 0.94\n",
      "Epoch: 0 | train loss: 0.0276 | test accuracy: 0.94\n",
      "Epoch: 0 | train loss: 0.1921 | test accuracy: 0.96\n",
      "Epoch: 0 | train loss: 0.1783 | test accuracy: 0.96\n",
      "Epoch: 0 | train loss: 0.0508 | test accuracy: 0.96\n",
      "Epoch: 0 | train loss: 0.0225 | test accuracy: 0.96\n",
      "Epoch: 0 | train loss: 0.0055 | test accuracy: 0.97\n",
      "Epoch: 0 | train loss: 0.0602 | test accuracy: 0.95\n",
      "Epoch: 0 | train loss: 0.2698 | test accuracy: 0.96\n",
      "Epoch: 0 | train loss: 0.1897 | test accuracy: 0.96\n",
      "Epoch: 0 | train loss: 0.0017 | test accuracy: 0.93\n",
      "Epoch: 0 | train loss: 0.0577 | test accuracy: 0.97\n",
      "Epoch: 0 | train loss: 0.0050 | test accuracy: 0.94\n",
      "Epoch: 0 | train loss: 0.1461 | test accuracy: 0.96\n",
      "Epoch: 0 | train loss: 0.0068 | test accuracy: 0.97\n",
      "Epoch: 0 | train loss: 0.0887 | test accuracy: 0.97\n",
      "Epoch: 0 | train loss: 0.0102 | test accuracy: 0.97\n",
      "Epoch: 0 | train loss: 0.5016 | test accuracy: 0.96\n",
      "Epoch: 0 | train loss: 0.0287 | test accuracy: 0.97\n",
      "Epoch: 0 | train loss: 0.0159 | test accuracy: 0.97\n",
      "Epoch: 0 | train loss: 0.0324 | test accuracy: 0.97\n",
      "Epoch: 0 | train loss: 0.0039 | test accuracy: 0.97\n",
      "Epoch: 0 | train loss: 0.0041 | test accuracy: 0.97\n",
      "Epoch: 0 | train loss: 0.0077 | test accuracy: 0.97\n",
      "Epoch: 0 | train loss: 0.0022 | test accuracy: 0.97\n",
      "Epoch: 0 | train loss: 0.0045 | test accuracy: 0.97\n",
      "Epoch: 0 | train loss: 0.0381 | test accuracy: 0.97\n",
      "Epoch: 0 | train loss: 0.1409 | test accuracy: 0.97\n",
      "Epoch: 0 | train loss: 0.0824 | test accuracy: 0.97\n",
      "Epoch: 0 | train loss: 0.0892 | test accuracy: 0.97\n",
      "Epoch: 0 | train loss: 0.0142 | test accuracy: 0.97\n",
      "Epoch: 0 | train loss: 0.0968 | test accuracy: 0.96\n",
      "Epoch: 0 | train loss: 0.0168 | test accuracy: 0.97\n",
      "Epoch: 0 | train loss: 0.0052 | test accuracy: 0.97\n",
      "Epoch: 0 | train loss: 0.0541 | test accuracy: 0.97\n",
      "Epoch: 0 | train loss: 0.0397 | test accuracy: 0.97\n",
      "Epoch: 0 | train loss: 0.0107 | test accuracy: 0.97\n",
      "Epoch: 0 | train loss: 0.0016 | test accuracy: 0.97\n",
      "Epoch: 0 | train loss: 0.1050 | test accuracy: 0.98\n",
      "Epoch: 0 | train loss: 0.0023 | test accuracy: 0.98\n",
      "Epoch: 0 | train loss: 0.0004 | test accuracy: 0.96\n",
      "Epoch: 0 | train loss: 0.0910 | test accuracy: 0.97\n",
      "Epoch: 0 | train loss: 0.1856 | test accuracy: 0.97\n",
      "Epoch: 0 | train loss: 0.0169 | test accuracy: 0.97\n",
      "Epoch: 0 | train loss: 0.4006 | test accuracy: 0.97\n",
      "Epoch: 0 | train loss: 0.0181 | test accuracy: 0.97\n",
      "Epoch: 0 | train loss: 0.2371 | test accuracy: 0.97\n",
      "Epoch: 0 | train loss: 0.0007 | test accuracy: 0.97\n",
      "Epoch: 0 | train loss: 0.0183 | test accuracy: 0.97\n",
      "Epoch: 0 | train loss: 0.0038 | test accuracy: 0.96\n",
      "Epoch: 0 | train loss: 0.0796 | test accuracy: 0.97\n",
      "Epoch: 0 | train loss: 0.0096 | test accuracy: 0.98\n",
      "Epoch: 0 | train loss: 0.0675 | test accuracy: 0.97\n",
      "Epoch: 0 | train loss: 0.0283 | test accuracy: 0.97\n",
      "Epoch: 0 | train loss: 0.2233 | test accuracy: 0.97\n",
      "Epoch: 0 | train loss: 0.0022 | test accuracy: 0.98\n"
     ]
    }
   ],
   "source": [
    "Epoch = 1\n",
    "\n",
    "ac=[]\n",
    "ls=[]\n",

    "for epoch in range(Epoch):\n",
    "    for step, (b_x, b_y) in enumerate(train_loader):\n",
    "    \n",
    "        output = cnn(b_x)[0]\n",
    "        loss = loss_fun(output, b_y)\n",
    "        optimizer.zero_grad()\n",
    "        loss.backward()\n",
    "        optimizer.step()\n",
    "        if step %50 == 0:\n",
    "            test_output,last_layer = cnn(test_x)\n",
    "            pred_y = torch.max(test_output, 1)[1].data.numpy()\n",
    "            accuracy = float((pred_y == test_y.data.numpy()).astype(int).sum())/float(test_y.size(0))\n",
    "            print('Epoch:', epoch,'| train loss: %.4f' % loss.data.numpy(), '| test accuracy: %.2f' % accuracy)\n",
    "            \n",
    "            ac.append(accuracy)\n",
    "            ls.append(loss.data.numpy())\n"
   ]
  },
  {
   "cell_type": "markdown",
   "metadata": {},
   "source": [
    "# 测试"
   ]
  },
  {
   "cell_type": "code",
   "execution_count": 7,
   "metadata": {},
   "outputs": [
    {
     "name": "stdout",
     "output_type": "stream",
     "text": [
      "[7 2 1 0 4 1 4 9 5 9] prediction number\n",
      "[7 2 1 0 4 1 4 9 5 9] real number\n",
      "准确率 100 %\n"
     ]
    }
   ],
   "source": [
    "test_output , _= cnn(test_x[:10])\n",
    "pred_y = torch.max(test_output, 1)[1].data.numpy()\n",
    "print(pred_y, 'prediction number')\n",
    "print(test_y[:10].numpy(), 'real number')\n",
    "print('准确率',sum(pred_y==test_y[:10].numpy()/10)*100,'%')"
   ]
  },
  {
   "cell_type": "markdown",
   "metadata": {},
   "source": [
    "# 画图"
   ]
  },
  {
   "cell_type": "code",
   "execution_count": 8,
   "metadata": {},
   "outputs": [
    {
     "data": {
      "image/png": "[encoded data removed]",
      "text/plain": [
       "<Figure size 432x288 with 2 Axes>"
      ]
     },
     "metadata": {
      "needs_background": "light"
     },
     "output_type": "display_data"
    }
   ],
   "source": [
    "ac.append(accuracy)\n",
    "ls.append(loss.data.numpy())\n",
    "plt.subplot(121)#把图像分为1行2列，121代表1行2列中的第一个\n",
    "plt.plot(ls, 'r-',label='loss' )\n",
    "\n",
    "plt.subplot(122)#把图像分为1行2列，121代表1行2列中的第二个\n",
    "\n",
    "\n",
    "plt.plot(ac, 'g--',label='ac' )\n",
    "\n",
    "\n",
    "plt.show()"
   ]
  },
  {
   "cell_type": "code",
   "execution_count": null,
   "metadata": {},
   "outputs": [],
   "source": []
  },
  {
   "cell_type": "code",
   "execution_count": null,
   "metadata": {},
   "outputs": [],
   "source": []
  },
  {
   "cell_type": "code",
   "execution_count": null,
   "metadata": {},
   "outputs": [],
   "source": []
  },
  {
   "cell_type": "code",
   "execution_count": null,
   "metadata": {},
   "outputs": [],
   "source": []
  }
 ],
 "metadata": {
  "kernelspec": {
   "display_name": "Python 3",
   "language": "python",
   "name": "python3"
  },
  "language_info": {
   "codemirror_mode": {
    "name": "ipython",
    "version": 3
   },
   "file_extension": ".py",
   "mimetype": "text/x-python",
   "name": "python",
   "nbconvert_exporter": "python",
   "pygments_lexer": "ipython3",
   "version": "3.7.6"
  }
 },
 "nbformat": 4,
 "nbformat_minor": 4
}
