{
 "cells": [
  {
   "cell_type": "code",
   "execution_count": 1,
   "metadata": {},
   "outputs": [],
   "source": [
    "import torch\n",
    "import torch.nn as nn\n",
    "import torch.utils.data as Data\n",
    "import torchvision\n",
    "import matplotlib.pyplot as plt\n",
    "import os\n",
    "import numpy as np"
   ]
  },
  {
   "cell_type": "markdown",
   "metadata": {},
   "source": [
    "# 数据集下载"
   ]
  },
  {
   "cell_type": "code",
   "execution_count": 2,
   "metadata": {},
   "outputs": [],
   "source": [
    "mnist_dowmload =False\n",
    "\n",
    "if not os.path.exists('./mnist/'):\n",
    "    mnist_dowmload = True\n",
    "train_data = torchvision.datasets.MNIST(\n",
    "                                root= './mnist/',\n",
    "                                train= True,\n",
    "                                transform=torchvision.transforms.ToTensor(),\n",
    "                                download=mnist_dowmload)"
   ]
  },
  {
   "cell_type": "markdown",
   "metadata": {},
   "source": [
    "# 数据加载"
   ]
  },
  {
   "cell_type": "code",
   "execution_count": 3,
   "metadata": {},
   "outputs": [],
   "source": [
    "train_loader =Data.DataLoader(dataset= train_data, batch_size=32, shuffle=True ) #训练集加载\n",
    "test_data = torchvision.datasets.MNIST(root= './mnist/',train=False, transform=torchvision.transforms.ToTensor())#测试集\n",
    "test_x = test_data.data.type(torch.FloatTensor)[:]/255\n",
    "test_y = test_data.targets.numpy()[:]"
   ]
  },
  {
   "cell_type": "markdown",
   "metadata": {},
   "source": [
    "# RNN网络"
   ]
  },
  {
   "cell_type": "code",
   "execution_count": 4,
   "metadata": {},
   "outputs": [
    {
     "data": {
      "text/plain": [
       "RNN(\n",
       "  (rnn): LSTM(28, 64, batch_first=True)\n",
       "  (out): Linear(in_features=64, out_features=10, bias=True)\n",
       ")"
      ]
     },
     "execution_count": 4,
     "metadata": {},
     "output_type": "execute_result"
    }
   ],
   "source": [
    "class RNN(nn.Module):\n",
    "    def __init__(self):\n",
    "        super(RNN, self).__init__()\n",
    "\n",
    "        self.rnn = nn.LSTM(         \n",
    "            input_size=28,\n",
    "            hidden_size=64,         \n",
    "            num_layers=1,           \n",
    "            batch_first=True,       \n",
    "        )\n",
    "\n",
    "        self.out = nn.Linear(64, 10)\n",
    "\n",
    "    def forward(self, x):\n",
    "  \n",
    "        r_out, (h_n, h_c) = self.rnn(x, None)  \n",
    "\n",
    "        \n",
    "        out = self.out(r_out[:, -1, :])\n",
    "        return out\n",
    "\n",
    "\n",
    "rnn = RNN()\n",
    "rnn"
   ]
  },
  {
   "cell_type": "markdown",
   "metadata": {},
   "source": [
    "# 优化器及损失函数"
   ]
  },
  {
   "cell_type": "code",
   "execution_count": 5,
   "metadata": {},
   "outputs": [],
   "source": [
    "optimizer = torch.optim.Adam(rnn.parameters(), lr=0.01)   \n",
    "loss_func = nn.CrossEntropyLoss() "
   ]
  },
  {
   "cell_type": "markdown",
   "metadata": {},
   "source": [
    "# 训练"
   ]
  },
  {
   "cell_type": "code",
   "execution_count": 6,
   "metadata": {},
   "outputs": [
    {
     "name": "stdout",
     "output_type": "stream",
     "text": [
      "Epoch:  0 | train loss: 2.3044 | test accuracy: 0.10\n",
      "Epoch:  0 | train loss: 1.4873 | test accuracy: 0.57\n",
      "Epoch:  0 | train loss: 0.5221 | test accuracy: 0.70\n",
      "Epoch:  0 | train loss: 0.6239 | test accuracy: 0.79\n",
      "Epoch:  0 | train loss: 0.4893 | test accuracy: 0.83\n",
      "Epoch:  0 | train loss: 0.5584 | test accuracy: 0.88\n",
      "Epoch:  0 | train loss: 0.3608 | test accuracy: 0.88\n",
      "Epoch:  0 | train loss: 0.1379 | test accuracy: 0.91\n",
      "Epoch:  0 | train loss: 0.4124 | test accuracy: 0.92\n",
      "Epoch:  0 | train loss: 0.2266 | test accuracy: 0.91\n",
      "Epoch:  0 | train loss: 0.1899 | test accuracy: 0.94\n",
      "Epoch:  0 | train loss: 0.2153 | test accuracy: 0.94\n",
      "Epoch:  0 | train loss: 0.2268 | test accuracy: 0.91\n",
      "Epoch:  0 | train loss: 0.3548 | test accuracy: 0.94\n",
      "Epoch:  0 | train loss: 0.1915 | test accuracy: 0.94\n",
      "Epoch:  0 | train loss: 0.5789 | test accuracy: 0.92\n",
      "Epoch:  0 | train loss: 0.2816 | test accuracy: 0.93\n",
      "Epoch:  0 | train loss: 0.0792 | test accuracy: 0.94\n",
      "Epoch:  0 | train loss: 0.4215 | test accuracy: 0.95\n",
      "Epoch:  0 | train loss: 0.1797 | test accuracy: 0.95\n",
      "Epoch:  0 | train loss: 0.0763 | test accuracy: 0.96\n",
      "Epoch:  0 | train loss: 0.1869 | test accuracy: 0.96\n",
      "Epoch:  0 | train loss: 0.0723 | test accuracy: 0.95\n",
      "Epoch:  0 | train loss: 0.2825 | test accuracy: 0.95\n",
      "Epoch:  0 | train loss: 0.3054 | test accuracy: 0.96\n",
      "Epoch:  0 | train loss: 0.4276 | test accuracy: 0.96\n",
      "Epoch:  0 | train loss: 0.3439 | test accuracy: 0.96\n",
      "Epoch:  0 | train loss: 0.1598 | test accuracy: 0.96\n",
      "Epoch:  0 | train loss: 0.2807 | test accuracy: 0.96\n",
      "Epoch:  0 | train loss: 0.1466 | test accuracy: 0.96\n",
      "Epoch:  0 | train loss: 0.2301 | test accuracy: 0.96\n",
      "Epoch:  0 | train loss: 0.2371 | test accuracy: 0.95\n",
      "Epoch:  0 | train loss: 0.1379 | test accuracy: 0.96\n",
      "Epoch:  0 | train loss: 0.2547 | test accuracy: 0.96\n",
      "Epoch:  0 | train loss: 0.2021 | test accuracy: 0.95\n",
      "Epoch:  0 | train loss: 0.0493 | test accuracy: 0.97\n",
      "Epoch:  0 | train loss: 0.0950 | test accuracy: 0.96\n",
      "Epoch:  0 | train loss: 0.0361 | test accuracy: 0.96\n"
     ]
    }
   ],
   "source": [
    "ac=[]\n",
    "ls=[]\n",
    "for epoch in range(1):\n",
    "    for step, (b_x, b_y) in enumerate(train_loader):        \n",
    "        b_x = b_x.view(-1, 28, 28)              \n",
    "        output = rnn(b_x)                        \n",
    "        loss = loss_func(output, b_y)                   \n",
    "        optimizer.zero_grad()                           \n",
    "        loss.backward()                                 \n",
    "        optimizer.step()                                \n",
    "        if step % 50 == 0:\n",
    "            test_output = rnn(test_x)                   \n",
    "            pred_y = torch.max(test_output, 1)[1].data.numpy()\n",
    "            accuracy = float((pred_y == test_y).astype(int).sum())/ float(test_y.size)\n",
    "            print('Epoch: ', epoch, '| train loss: %.4f' % loss.data.numpy(), '| test accuracy: %.2f' % accuracy)\n",
    "            ac.append(accuracy)\n",
    "            ls.append(loss.data.numpy())"
   ]
  },
  {
   "cell_type": "markdown",
   "metadata": {},
   "source": [
    "# 测试"
   ]
  },
  {
   "cell_type": "code",
   "execution_count": 7,
   "metadata": {},
   "outputs": [
    {
     "name": "stdout",
     "output_type": "stream",
     "text": [
      "[7 2 1 0 4 1 4 9 6 9] prediction number\n",
      "[7 2 1 0 4 1 4 9 5 9] real number\n"
     ]
    }
   ],
   "source": [
    "test_output = rnn(test_x[:10].view(-1, 28, 28))\n",
    "pred_y = torch.max(test_output, 1)[1].data.numpy()\n",
    "print(pred_y, 'prediction number')\n",
    "print(test_y[:10], 'real number')"
   ]
  },
  {
   "cell_type": "code",
   "execution_count": null,
   "metadata": {},
   "outputs": [],
   "source": []
  },
  {
   "cell_type": "code",
   "execution_count": 8,
   "metadata": {},
   "outputs": [
    {
     "data": {
      "image/png": "[encoded data removed]",
      "text/plain": [
       "<Figure size 432x288 with 2 Axes>"
      ]
     },
     "metadata": {
      "needs_background": "light"
     },
     "output_type": "display_data"
    }
   ],
   "source": [
    "ac.append(accuracy)\n",
    "ls.append(loss.data.numpy())\n",
    "plt.subplot(121)#把图像分为1行2列，121代表1行2列中的第一个\n",
    "plt.plot(ls, 'r-',label='loss' )\n",
    "\n",
    "plt.subplot(122)#把图像分为1行2列，121代表1行2列中的第二个\n",
    "\n",
    "\n",
    "plt.plot(ac, 'g--',label='ac' )\n",
    "\n",
    "\n",
    "plt.show()"
   ]
  }
 ],
 "metadata": {
  "kernelspec": {
   "display_name": "Python 3",
   "language": "python",
   "name": "python3"
  },
  "language_info": {
   "codemirror_mode": {
    "name": "ipython",
    "version": 3
   },
   "file_extension": ".py",
   "mimetype": "text/x-python",
   "name": "python",
   "nbconvert_exporter": "python",
   "pygments_lexer": "ipython3",
   "version": "3.7.6"
  }
 },
 "nbformat": 4,
 "nbformat_minor": 4
}
